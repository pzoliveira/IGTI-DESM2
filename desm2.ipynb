{
 "cells": [
  {
   "cell_type": "code",
   "execution_count": 67,
   "metadata": {},
   "outputs": [],
   "source": [
    "from pyspark.sql import SparkSession"
   ]
  },
  {
   "cell_type": "code",
   "execution_count": 68,
   "metadata": {},
   "outputs": [
    {
     "data": {
      "text/plain": [
       "'3.5.1'"
      ]
     },
     "execution_count": 68,
     "metadata": {},
     "output_type": "execute_result"
    }
   ],
   "source": [
    "spark = SparkSession \\\n",
    "    .builder \\\n",
    "    .appName('Desafio Modulo 2 - ML') \\\n",
    "    .getOrCreate()\n",
    "\n",
    "spark.version"
   ]
  },
  {
   "cell_type": "code",
   "execution_count": 69,
   "metadata": {},
   "outputs": [
    {
     "name": "stdout",
     "output_type": "stream",
     "text": [
      "root\n",
      " |-- 0: integer (nullable = true)\n",
      " |-- gender: string (nullable = true)\n",
      " |-- age: double (nullable = true)\n",
      " |-- hypertension: integer (nullable = true)\n",
      " |-- heart_disease: integer (nullable = true)\n",
      " |-- ever_married: string (nullable = true)\n",
      " |-- work_type: string (nullable = true)\n",
      " |-- Residence_type: string (nullable = true)\n",
      " |-- avg_glucose_level: double (nullable = true)\n",
      " |-- bmi: double (nullable = true)\n",
      " |-- smoking_status: string (nullable = true)\n",
      " |-- stroke: integer (nullable = true)\n",
      "\n"
     ]
    }
   ],
   "source": [
    "clidata_df = spark.read.csv('/home/pericles/Spark-Projects/IGTI-DESM2/stroke_data.csv', header='True', inferSchema='True')\n",
    "\n",
    "clidata_df.printSchema()"
   ]
  },
  {
   "cell_type": "code",
   "execution_count": 70,
   "metadata": {},
   "outputs": [],
   "source": [
    "mean_age = clidata_df.agg({'age': 'mean'}).collect()[0][0]\n",
    "mean_avg_glucose_leve = clidata_df.agg({'avg_glucose_level': 'mean'}).collect()[0][0]\n",
    "mean_bmi = clidata_df.agg({'bmi': 'mean'}).collect()[0][0]"
   ]
  },
  {
   "cell_type": "code",
   "execution_count": 71,
   "metadata": {},
   "outputs": [],
   "source": [
    "clidata_df = clidata_df.fillna(mean_age, subset=['age'])\n",
    "clidata_df = clidata_df.fillna(mean_avg_glucose_leve, subset=['avg_glucose_level'])\n",
    "clidata_df = clidata_df.fillna(mean_bmi, subset=['bmi'])"
   ]
  },
  {
   "cell_type": "code",
   "execution_count": 72,
   "metadata": {},
   "outputs": [
    {
     "name": "stderr",
     "output_type": "stream",
     "text": [
      "[Stage 152:>                                                        (0 + 1) / 1]\r"
     ]
    },
    {
     "name": "stdout",
     "output_type": "stream",
     "text": [
      "+-------+------------------+------+------------------+-------------------+-------------------+------------+---------+--------------+------------------+------------------+---------------+-------------------+\n",
      "|summary|                 0|gender|               age|       hypertension|      heart_disease|ever_married|work_type|Residence_type| avg_glucose_level|               bmi| smoking_status|             stroke|\n",
      "+-------+------------------+------+------------------+-------------------+-------------------+------------+---------+--------------+------------------+------------------+---------------+-------------------+\n",
      "|  count|             67135| 67135|             67135|              67135|              67135|       67135|    67135|         67135|             67135|             67135|          67135|              67135|\n",
      "|   mean|           33568.0|  NULL| 51.95950845311693|0.16410218217025396|0.10142250688910405|        NULL|     NULL|          NULL|113.41439606762462| 29.16154047813857|           NULL|  0.600089372160572|\n",
      "| stddev|19380.349498052576|  NULL|23.413054156327913|0.37037102916366954| 0.3018896147748789|        NULL|     NULL|          NULL| 51.25881719094036|7.1020570070927205|           NULL|0.48988334555668295|\n",
      "|    min|                 1|Female|              0.08|                  0|                  0|          No| Govt_job|         Rural|              55.0|              10.1|formerly smoked|                  0|\n",
      "|    max|             67135| Other|              82.0|                  1|                  1|         Yes| children|         Urban|            291.05|              97.6|         smokes|                  1|\n",
      "+-------+------------------+------+------------------+-------------------+-------------------+------------+---------+--------------+------------------+------------------+---------------+-------------------+\n",
      "\n"
     ]
    },
    {
     "name": "stderr",
     "output_type": "stream",
     "text": [
      "                                                                                \r"
     ]
    }
   ],
   "source": [
    "clidata_df.describe().show()"
   ]
  },
  {
   "cell_type": "code",
   "execution_count": 73,
   "metadata": {},
   "outputs": [
    {
     "name": "stdout",
     "output_type": "stream",
     "text": [
      "+------+------------+-------------+------------+\n",
      "|gender|hypertension|heart_disease|ever_married|\n",
      "+------+------------+-------------+------------+\n",
      "|  Male|           0|            0|          No|\n",
      "|  Male|           0|            1|         Yes|\n",
      "| Other|           0|            0|         Yes|\n",
      "|  Male|           1|            0|         Yes|\n",
      "|Female|           0|            1|         Yes|\n",
      "|  Male|           1|            1|          No|\n",
      "|Female|           0|            0|         Yes|\n",
      "|Female|           0|            1|          No|\n",
      "|  Male|           1|            1|         Yes|\n",
      "|Female|           0|            0|          No|\n",
      "|Female|           1|            1|         Yes|\n",
      "|  Male|           0|            0|         Yes|\n",
      "|Female|           1|            0|         Yes|\n",
      "|  Male|           0|            1|          No|\n",
      "|Female|           1|            0|          No|\n",
      "|Female|           1|            1|          No|\n",
      "|  Male|           1|            0|          No|\n",
      "| Other|           0|            0|          No|\n",
      "+------+------------+-------------+------------+\n",
      "\n"
     ]
    }
   ],
   "source": [
    "clidata_df.select('gender', 'hypertension', 'heart_disease', 'ever_married').distinct().show()"
   ]
  },
  {
   "cell_type": "code",
   "execution_count": 74,
   "metadata": {},
   "outputs": [
    {
     "name": "stdout",
     "output_type": "stream",
     "text": [
      "+-------------+--------------+\n",
      "|    work_type|Residence_type|\n",
      "+-------------+--------------+\n",
      "|      Private|         Urban|\n",
      "|     children|         Urban|\n",
      "|     Govt_job|         Rural|\n",
      "|Self-employed|         Rural|\n",
      "|     Govt_job|         Urban|\n",
      "|      Private|         Rural|\n",
      "| Never_worked|         Rural|\n",
      "|     children|         Rural|\n",
      "| Never_worked|         Urban|\n",
      "|Self-employed|         Urban|\n",
      "+-------------+--------------+\n",
      "\n"
     ]
    }
   ],
   "source": [
    "clidata_df.select('work_type', 'Residence_type').distinct().show()"
   ]
  },
  {
   "cell_type": "code",
   "execution_count": 75,
   "metadata": {},
   "outputs": [
    {
     "name": "stdout",
     "output_type": "stream",
     "text": [
      "+---------------+------+\n",
      "| smoking_status|stroke|\n",
      "+---------------+------+\n",
      "|   never_smoked|     0|\n",
      "|formerly smoked|     1|\n",
      "|         smokes|     1|\n",
      "|formerly smoked|     0|\n",
      "|   never_smoked|     1|\n",
      "|         smokes|     0|\n",
      "+---------------+------+\n",
      "\n"
     ]
    }
   ],
   "source": [
    "clidata_df.select('smoking_status', 'stroke').distinct().show()"
   ]
  },
  {
   "cell_type": "code",
   "execution_count": 4,
   "metadata": {},
   "outputs": [],
   "source": [
    "from pyspark.ml.feature import StringIndexer, OneHotEncoder"
   ]
  },
  {
   "cell_type": "code",
   "execution_count": 76,
   "metadata": {},
   "outputs": [
    {
     "name": "stdout",
     "output_type": "stream",
     "text": [
      "root\n",
      " |-- 0: integer (nullable = true)\n",
      " |-- gender: string (nullable = true)\n",
      " |-- age: double (nullable = false)\n",
      " |-- hypertension: integer (nullable = true)\n",
      " |-- heart_disease: integer (nullable = true)\n",
      " |-- ever_married: string (nullable = true)\n",
      " |-- work_type: string (nullable = true)\n",
      " |-- Residence_type: string (nullable = true)\n",
      " |-- avg_glucose_level: double (nullable = false)\n",
      " |-- bmi: double (nullable = false)\n",
      " |-- smoking_status: string (nullable = true)\n",
      " |-- stroke: integer (nullable = true)\n",
      "\n"
     ]
    }
   ],
   "source": [
    "clidata_df.printSchema()"
   ]
  },
  {
   "cell_type": "code",
   "execution_count": 80,
   "metadata": {},
   "outputs": [
    {
     "data": {
      "text/plain": [
       "DataFrame[0: int, gender: string, age: double, hypertension: int, heart_disease: int, ever_married: string, work_type: string, Residence_type: string, avg_glucose_level: double, bmi: double, smoking_status: string, stroke: int, gender_indexer: double, gender_vector: vector]"
      ]
     },
     "execution_count": 80,
     "metadata": {},
     "output_type": "execute_result"
    }
   ],
   "source": [
    "gender_indexer = StringIndexer(inputCol='gender', outputCol='gender_indexer')\n",
    "gender_indexer.fit(clidata_df).transform(clidata_df)\n",
    "\n",
    "gender_encoder = OneHotEncoder(inputCol='gender_indexer', outputCol='gender_vector')\n",
    "gender_indexer_model = gender_indexer.fit(clidata_df).transform(clidata_df)\n",
    "gender_encoder.fit(gender_indexer_model).transform(gender_indexer_model)"
   ]
  },
  {
   "cell_type": "code",
   "execution_count": 85,
   "metadata": {},
   "outputs": [
    {
     "data": {
      "text/plain": [
       "DataFrame[0: int, gender: string, age: double, hypertension: int, heart_disease: int, ever_married: string, work_type: string, Residence_type: string, avg_glucose_level: double, bmi: double, smoking_status: string, stroke: int, emarried_indexer: double, emarried_vector: vector]"
      ]
     },
     "execution_count": 85,
     "metadata": {},
     "output_type": "execute_result"
    }
   ],
   "source": [
    "emarried_indexer = StringIndexer(inputCol='ever_married', outputCol='emarried_indexer')\n",
    "emarried_indexer.fit(clidata_df).transform(clidata_df)\n",
    "\n",
    "emarried_encoder = OneHotEncoder(inputCol='emarried_indexer', outputCol='emarried_vector')\n",
    "emarried_indexer_model = emarried_indexer.fit(clidata_df).transform(clidata_df)\n",
    "emarried_encoder.fit(emarried_indexer_model).transform(emarried_indexer_model)"
   ]
  },
  {
   "cell_type": "code",
   "execution_count": 86,
   "metadata": {},
   "outputs": [
    {
     "data": {
      "text/plain": [
       "DataFrame[0: int, gender: string, age: double, hypertension: int, heart_disease: int, ever_married: string, work_type: string, Residence_type: string, avg_glucose_level: double, bmi: double, smoking_status: string, stroke: int, wtype_indexer: double, wtype_vector: vector]"
      ]
     },
     "execution_count": 86,
     "metadata": {},
     "output_type": "execute_result"
    }
   ],
   "source": [
    "wtype_indexer = StringIndexer(inputCol='work_type', outputCol='wtype_indexer')\n",
    "wtype_indexer.fit(clidata_df).transform(clidata_df)\n",
    "\n",
    "wtype_encoder = OneHotEncoder(inputCol='wtype_indexer', outputCol='wtype_vector')\n",
    "wtype_indexer_model = wtype_indexer.fit(clidata_df).transform(clidata_df)\n",
    "wtype_encoder.fit(wtype_indexer_model).transform(wtype_indexer_model)"
   ]
  },
  {
   "cell_type": "code",
   "execution_count": 87,
   "metadata": {},
   "outputs": [
    {
     "data": {
      "text/plain": [
       "DataFrame[0: int, gender: string, age: double, hypertension: int, heart_disease: int, ever_married: string, work_type: string, Residence_type: string, avg_glucose_level: double, bmi: double, smoking_status: string, stroke: int, rtype_indexer: double, rtype_vector: vector]"
      ]
     },
     "execution_count": 87,
     "metadata": {},
     "output_type": "execute_result"
    }
   ],
   "source": [
    "rtype_indexer = StringIndexer(inputCol='Residence_type', outputCol='rtype_indexer')\n",
    "rtype_indexer.fit(clidata_df).transform(clidata_df)\n",
    "\n",
    "rtype_encoder = OneHotEncoder(inputCol='rtype_indexer', outputCol='rtype_vector')\n",
    "rtype_indexer_model = rtype_indexer.fit(clidata_df).transform(clidata_df)\n",
    "rtype_encoder.fit(rtype_indexer_model).transform(rtype_indexer_model)"
   ]
  },
  {
   "cell_type": "code",
   "execution_count": 88,
   "metadata": {},
   "outputs": [
    {
     "data": {
      "text/plain": [
       "DataFrame[0: int, gender: string, age: double, hypertension: int, heart_disease: int, ever_married: string, work_type: string, Residence_type: string, avg_glucose_level: double, bmi: double, smoking_status: string, stroke: int, sstatus_indexer: double, sstatus_vector: vector]"
      ]
     },
     "execution_count": 88,
     "metadata": {},
     "output_type": "execute_result"
    }
   ],
   "source": [
    "sstatus_indexer = StringIndexer(inputCol='smoking_status', outputCol='sstatus_indexer')\n",
    "sstatus_indexer.fit(clidata_df).transform(clidata_df)\n",
    "\n",
    "sstatus_encoder = OneHotEncoder(inputCol='sstatus_indexer', outputCol='sstatus_vector')\n",
    "sstatus_indexer_model = sstatus_indexer.fit(clidata_df).transform(clidata_df)\n",
    "sstatus_encoder.fit(sstatus_indexer_model).transform(sstatus_indexer_model)"
   ]
  },
  {
   "cell_type": "code",
   "execution_count": 89,
   "metadata": {},
   "outputs": [],
   "source": [
    "from pyspark.ml.feature import VectorAssembler\n",
    "from pyspark.ml.classification import DecisionTreeClassifier\n",
    "from pyspark.ml import Pipeline\n",
    "from pyspark.ml.evaluation import MulticlassClassificationEvaluator"
   ]
  },
  {
   "cell_type": "code",
   "execution_count": 104,
   "metadata": {},
   "outputs": [
    {
     "name": "stdout",
     "output_type": "stream",
     "text": [
      "root\n",
      " |-- 0: integer (nullable = true)\n",
      " |-- gender: string (nullable = true)\n",
      " |-- age: double (nullable = false)\n",
      " |-- hypertension: integer (nullable = true)\n",
      " |-- heart_disease: integer (nullable = true)\n",
      " |-- ever_married: string (nullable = true)\n",
      " |-- work_type: string (nullable = true)\n",
      " |-- Residence_type: string (nullable = true)\n",
      " |-- avg_glucose_level: double (nullable = false)\n",
      " |-- bmi: double (nullable = false)\n",
      " |-- smoking_status: string (nullable = true)\n",
      " |-- stroke: integer (nullable = true)\n",
      "\n"
     ]
    }
   ],
   "source": [
    "clidata_df.printSchema()"
   ]
  },
  {
   "cell_type": "code",
   "execution_count": 150,
   "metadata": {},
   "outputs": [],
   "source": [
    "assembler = VectorAssembler(inputCols=['gender_vector', 'age', 'hypertension', 'heart_disease', 'emarried_vector', \\\n",
    "                                       'wtype_vector', 'rtype_vector', 'avg_glucose_level', 'bmi', 'sstatus_vector'], outputCol='features')\n",
    "classifier = DecisionTreeClassifier(labelCol='stroke', featuresCol='features')\n",
    "pipeline = Pipeline(stages=[gender_indexer, gender_encoder, emarried_indexer, emarried_encoder, \\\n",
    "                            wtype_indexer, wtype_encoder, rtype_indexer, rtype_encoder, sstatus_indexer, sstatus_encoder, \\\n",
    "                                assembler, classifier])"
   ]
  },
  {
   "cell_type": "code",
   "execution_count": 151,
   "metadata": {},
   "outputs": [],
   "source": [
    " train_data, test_data = clidata_df.randomSplit([0.7, 0.3])"
   ]
  },
  {
   "cell_type": "code",
   "execution_count": 152,
   "metadata": {},
   "outputs": [],
   "source": [
    "predict_stroke_model = pipeline.fit(train_data)"
   ]
  },
  {
   "cell_type": "code",
   "execution_count": 153,
   "metadata": {},
   "outputs": [],
   "source": [
    "predictions = predict_stroke_model.transform(test_data)"
   ]
  },
  {
   "cell_type": "code",
   "execution_count": 154,
   "metadata": {},
   "outputs": [
    {
     "data": {
      "text/plain": [
       "0.8371195466314916"
      ]
     },
     "execution_count": 154,
     "metadata": {},
     "output_type": "execute_result"
    }
   ],
   "source": [
    "evaluator = MulticlassClassificationEvaluator(labelCol='stroke', predictionCol='prediction', metricName='accuracy')\n",
    "accuracy = evaluator.evaluate(predictions)\n",
    "accuracy"
   ]
  },
  {
   "cell_type": "code",
   "execution_count": 155,
   "metadata": {},
   "outputs": [
    {
     "name": "stdout",
     "output_type": "stream",
     "text": [
      "+------+----+------------+-------------+-------------+------------+-------------+--------------+-----------------+----+---------------+----------+\n",
      "|gender| age|hypertension|heart_disease|    work_type|ever_married|    work_type|Residence_type|avg_glucose_level| bmi| smoking_status|prediction|\n",
      "+------+----+------------+-------------+-------------+------------+-------------+--------------+-----------------+----+---------------+----------+\n",
      "|Female|62.0|           0|            0|Self-employed|         Yes|Self-employed|         Rural|            85.52|31.2|formerly smoked|       1.0|\n",
      "|Female|41.0|           0|            0|     Govt_job|         Yes|     Govt_job|         Rural|            64.06|33.8|         smokes|       1.0|\n",
      "|  Male|72.0|           0|            1|      Private|         Yes|      Private|         Rural|           235.22|40.3|formerly smoked|       1.0|\n",
      "|  Male|41.0|           0|            0|Self-employed|         Yes|Self-employed|         Urban|            159.3|34.6|         smokes|       1.0|\n",
      "|Female|23.0|           0|            0|      Private|          No|      Private|         Urban|           116.95|23.8|         smokes|       1.0|\n",
      "|  Male|22.0|           0|            0|Self-employed|          No|Self-employed|         Rural|            72.05|31.9|         smokes|       1.0|\n",
      "|  Male|69.0|           0|            0|      Private|         Yes|      Private|         Rural|            64.06|35.1|formerly smoked|       0.0|\n",
      "|  Male|64.0|           1|            0|      Private|         Yes|      Private|         Urban|            84.49|31.2|         smokes|       1.0|\n",
      "|Female|23.0|           0|            0|      Private|          No|      Private|         Urban|            87.52|19.5|   never_smoked|       0.0|\n",
      "|Female|81.0|           0|            0|      Private|         Yes|      Private|         Rural|            81.48|17.5|formerly smoked|       1.0|\n",
      "|Female|63.0|           1|            0|      Private|         Yes|      Private|         Urban|            74.21|25.8|formerly smoked|       1.0|\n",
      "|  Male|80.0|           0|            1|Self-employed|         Yes|Self-employed|         Urban|           252.72|30.5|formerly smoked|       1.0|\n",
      "|  Male|58.0|           0|            0|      Private|         Yes|      Private|         Rural|            85.33|26.0|formerly smoked|       1.0|\n",
      "|Female|78.0|           1|            0|      Private|         Yes|      Private|         Urban|           125.65|22.8|   never_smoked|       0.0|\n",
      "|  Male|59.0|           0|            0|     Govt_job|         Yes|     Govt_job|         Rural|           241.09|30.6|formerly smoked|       1.0|\n",
      "|Female|37.0|           0|            0|      Private|         Yes|      Private|         Rural|            99.65|27.8|         smokes|       1.0|\n",
      "|Female|53.0|           0|            0|      Private|         Yes|      Private|         Rural|            69.17|32.4|         smokes|       1.0|\n",
      "|Female|77.0|           1|            0|      Private|         Yes|      Private|         Rural|            104.6|25.4|         smokes|       1.0|\n",
      "|Female|60.0|           0|            0|Self-employed|         Yes|Self-employed|         Rural|           117.35|28.9|         smokes|       1.0|\n",
      "|Female|57.0|           0|            0|      Private|         Yes|      Private|         Rural|           115.66|26.0|         smokes|       1.0|\n",
      "|Female|81.0|           0|            0|      Private|         Yes|      Private|         Rural|           117.99|33.2|         smokes|       1.0|\n",
      "|  Male|46.0|           0|            0|      Private|         Yes|      Private|         Rural|           101.78|34.8|         smokes|       1.0|\n",
      "|Female|75.0|           0|            0|      Private|         Yes|      Private|         Urban|            66.31|21.4|formerly smoked|       1.0|\n",
      "|  Male|26.0|           0|            0|     Govt_job|         Yes|     Govt_job|         Urban|            83.78|33.6|formerly smoked|       0.0|\n",
      "|Female|73.0|           0|            0|      Private|         Yes|      Private|         Rural|           237.02|24.7|         smokes|       1.0|\n",
      "|  Male|50.0|           1|            0|      Private|         Yes|      Private|         Urban|            85.97|36.6|         smokes|       1.0|\n",
      "|  Male| 5.0|           0|            0|     children|          No|     children|         Rural|            71.43|19.3|   never_smoked|       0.0|\n",
      "|Female|74.0|           0|            0|      Private|          No|      Private|         Rural|           101.67|27.9|         smokes|       1.0|\n",
      "|  Male|43.0|           0|            0|      Private|          No|      Private|         Urban|            80.59|30.7|         smokes|       1.0|\n",
      "|  Male|79.0|           0|            0|      Private|         Yes|      Private|         Rural|           114.77|31.2|formerly smoked|       1.0|\n",
      "|Female|79.0|           0|            0|Self-employed|         Yes|Self-employed|         Urban|           123.24|29.5|formerly smoked|       1.0|\n",
      "|  Male|72.0|           0|            0|      Private|         Yes|      Private|         Urban|           111.88|26.2|formerly smoked|       1.0|\n",
      "|  Male|67.0|           0|            0|     Govt_job|         Yes|     Govt_job|         Rural|           244.28|29.4|formerly smoked|       1.0|\n",
      "|Female|79.0|           0|            0|Self-employed|         Yes|Self-employed|         Urban|            74.15|35.2|         smokes|       1.0|\n",
      "|Female|54.0|           0|            0|      Private|         Yes|      Private|         Rural|            85.12|21.9|formerly smoked|       0.0|\n",
      "|  Male|82.0|           0|            1|Self-employed|         Yes|Self-employed|         Rural|           126.46|14.3|         smokes|       1.0|\n",
      "|Female|80.0|           0|            0|Self-employed|         Yes|Self-employed|         Rural|            57.67|24.0|         smokes|       1.0|\n",
      "|  Male|69.0|           0|            0|      Private|         Yes|      Private|         Urban|            94.14|27.1|formerly smoked|       1.0|\n",
      "|Female|65.0|           1|            0|     Govt_job|         Yes|     Govt_job|         Urban|           217.47|22.9|formerly smoked|       1.0|\n",
      "|Female|56.0|           0|            0|      Private|         Yes|      Private|         Rural|             86.7|25.3|formerly smoked|       1.0|\n",
      "|Female|69.0|           0|            0|      Private|         Yes|      Private|         Rural|           112.23|21.4|         smokes|       1.0|\n",
      "|  Male|74.0|           1|            1|      Private|         Yes|      Private|         Urban|            64.08|32.9|         smokes|       1.0|\n",
      "|Female|28.0|           0|            0|      Private|         Yes|      Private|         Urban|            61.46|40.1|formerly smoked|       0.0|\n",
      "|Female|53.0|           0|            0|      Private|         Yes|      Private|         Rural|           167.47|22.3|formerly smoked|       0.0|\n",
      "|  Male|25.0|           0|            0|      Private|          No|      Private|         Rural|            63.07|23.2|formerly smoked|       0.0|\n",
      "|Female|81.0|           0|            0|      Private|         Yes|      Private|         Rural|            81.55|32.8|         smokes|       1.0|\n",
      "|Female|36.0|           0|            0|      Private|          No|      Private|         Rural|            96.83|50.9|         smokes|       1.0|\n",
      "|Female| 2.0|           0|            0|     children|          No|     children|         Rural|           126.22|19.8|   never_smoked|       0.0|\n",
      "|  Male|49.0|           0|            0|      Private|         Yes|      Private|         Rural|           110.31|27.8|         smokes|       1.0|\n",
      "|Female|39.0|           0|            0|     Govt_job|         Yes|     Govt_job|         Urban|           220.85|45.6|         smokes|       1.0|\n",
      "+------+----+------------+-------------+-------------+------------+-------------+--------------+-----------------+----+---------------+----------+\n",
      "only showing top 50 rows\n",
      "\n"
     ]
    }
   ],
   "source": [
    "\n",
    "predictions.select('gender', 'age', 'hypertension', 'heart_disease', 'work_type', \\\n",
    "                   'ever_married', 'work_type', 'Residence_type', 'avg_glucose_level', 'bmi', 'smoking_status', 'prediction').show(50)"
   ]
  },
  {
   "cell_type": "code",
   "execution_count": 156,
   "metadata": {},
   "outputs": [
    {
     "data": {
      "text/plain": [
       "40287"
      ]
     },
     "execution_count": 156,
     "metadata": {},
     "output_type": "execute_result"
    }
   ],
   "source": [
    "clidata_df[clidata_df['stroke'] == 1].count()"
   ]
  },
  {
   "cell_type": "code",
   "execution_count": 157,
   "metadata": {},
   "outputs": [
    {
     "data": {
      "text/plain": [
       "26848"
      ]
     },
     "execution_count": 157,
     "metadata": {},
     "output_type": "execute_result"
    }
   ],
   "source": [
    "clidata_df[clidata_df['stroke'] == 0].count()"
   ]
  },
  {
   "cell_type": "code",
   "execution_count": 161,
   "metadata": {},
   "outputs": [],
   "source": [
    "clidata_df.createOrReplaceTempView('temp_view')"
   ]
  },
  {
   "cell_type": "code",
   "execution_count": 168,
   "metadata": {},
   "outputs": [
    {
     "name": "stdout",
     "output_type": "stream",
     "text": [
      "+----------------+\n",
      "|count(work_type)|\n",
      "+----------------+\n",
      "|           23711|\n",
      "+----------------+\n",
      "\n"
     ]
    }
   ],
   "source": [
    "spark.sql(\"\\\n",
    "        SELECT COUNT(work_type) FROM temp_view \\\n",
    "        WHERE work_type='Private' and stroke = '1'\\\n",
    "        \").show()"
   ]
  },
  {
   "cell_type": "code",
   "execution_count": 169,
   "metadata": {},
   "outputs": [
    {
     "name": "stdout",
     "output_type": "stream",
     "text": [
      "+----------------+\n",
      "|count(work_type)|\n",
      "+----------------+\n",
      "|           10807|\n",
      "+----------------+\n",
      "\n"
     ]
    }
   ],
   "source": [
    "spark.sql(\"\\\n",
    "        SELECT COUNT(work_type) FROM temp_view \\\n",
    "        WHERE work_type='Self-employed' and stroke = '1'\\\n",
    "        \").show()"
   ]
  },
  {
   "cell_type": "code",
   "execution_count": 170,
   "metadata": {},
   "outputs": [
    {
     "name": "stdout",
     "output_type": "stream",
     "text": [
      "+----------------+\n",
      "|count(work_type)|\n",
      "+----------------+\n",
      "|            5164|\n",
      "+----------------+\n",
      "\n"
     ]
    }
   ],
   "source": [
    "spark.sql(\"\\\n",
    "        SELECT COUNT(work_type) FROM temp_view \\\n",
    "        WHERE work_type='Govt_job' and stroke = '1'\\\n",
    "        \").show()"
   ]
  },
  {
   "cell_type": "code",
   "execution_count": 176,
   "metadata": {},
   "outputs": [
    {
     "name": "stdout",
     "output_type": "stream",
     "text": [
      "+----------+\n",
      "|count(age)|\n",
      "+----------+\n",
      "|       408|\n",
      "+----------+\n",
      "\n"
     ]
    }
   ],
   "source": [
    "spark.sql(\"\\\n",
    "        SELECT COUNT(age) FROM temp_view \\\n",
    "        WHERE age < '14' and stroke = '1'\\\n",
    "        \").show()"
   ]
  },
  {
   "cell_type": "code",
   "execution_count": 183,
   "metadata": {},
   "outputs": [
    {
     "name": "stdout",
     "output_type": "stream",
     "text": [
      "+------+--------+\n",
      "|gender|count(1)|\n",
      "+------+--------+\n",
      "|Female|   39530|\n",
      "| Other|      11|\n",
      "|  Male|   27594|\n",
      "+------+--------+\n",
      "\n"
     ]
    }
   ],
   "source": [
    "spark.sql(\"\\\n",
    "          SELECT gender, COUNT(*) FROM temp_view \\\n",
    "          GROUP BY(gender) \\\n",
    "          \").show()"
   ]
  }
 ],
 "metadata": {
  "kernelspec": {
   "display_name": "challenge5",
   "language": "python",
   "name": "challenge5"
  },
  "language_info": {
   "codemirror_mode": {
    "name": "ipython",
    "version": 3
   },
   "file_extension": ".py",
   "mimetype": "text/x-python",
   "name": "python",
   "nbconvert_exporter": "python",
   "pygments_lexer": "ipython3",
   "version": "3.8.10"
  }
 },
 "nbformat": 4,
 "nbformat_minor": 2
}

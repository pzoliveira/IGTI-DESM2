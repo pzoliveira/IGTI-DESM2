{
 "cells": [
  {
   "cell_type": "code",
   "execution_count": 54,
   "metadata": {},
   "outputs": [],
   "source": [
    "from pyspark.sql import SparkSession"
   ]
  },
  {
   "cell_type": "code",
   "execution_count": 55,
   "metadata": {},
   "outputs": [
    {
     "data": {
      "text/plain": [
       "'3.5.1'"
      ]
     },
     "execution_count": 55,
     "metadata": {},
     "output_type": "execute_result"
    }
   ],
   "source": [
    "spark = SparkSession \\\n",
    "    .builder \\\n",
    "    .appName('Desafio Modulo 2 - ML') \\\n",
    "    .getOrCreate()\n",
    "\n",
    "spark.version"
   ]
  },
  {
   "cell_type": "code",
   "execution_count": 56,
   "metadata": {},
   "outputs": [
    {
     "name": "stdout",
     "output_type": "stream",
     "text": [
      "root\n",
      " |-- 0: integer (nullable = true)\n",
      " |-- gender: string (nullable = true)\n",
      " |-- age: double (nullable = true)\n",
      " |-- hypertension: integer (nullable = true)\n",
      " |-- heart_disease: integer (nullable = true)\n",
      " |-- ever_married: string (nullable = true)\n",
      " |-- work_type: string (nullable = true)\n",
      " |-- Residence_type: string (nullable = true)\n",
      " |-- avg_glucose_level: double (nullable = true)\n",
      " |-- bmi: double (nullable = true)\n",
      " |-- smoking_status: string (nullable = true)\n",
      " |-- stroke: integer (nullable = true)\n",
      "\n"
     ]
    }
   ],
   "source": [
    "clidata_df = spark.read.csv('/home/pericles/Spark-Projects/IGTI-DESM2/stroke_data.csv', header='True', inferSchema='True')\n",
    "\n",
    "clidata_df.printSchema()"
   ]
  },
  {
   "cell_type": "code",
   "execution_count": 63,
   "metadata": {},
   "outputs": [],
   "source": [
    "mean_age = clidata_df.agg({'age': 'mean'}).collect()[0][0]\n",
    "mean_avg_glucose_leve = clidata_df.agg({'avg_glucose_level': 'mean'}).collect()[0][0]\n",
    "mean_bmi = clidata_df.agg({'bmi': 'mean'}).collect()[0][0]"
   ]
  },
  {
   "cell_type": "code",
   "execution_count": 65,
   "metadata": {},
   "outputs": [],
   "source": [
    "clidata_df = clidata_df.fillna(mean_age, subset=['age'])\n",
    "clidata_df = clidata_df.fillna(mean_avg_glucose_leve, subset=['avg_glucose_level'])\n",
    "clidata_df = clidata_df.fillna(mean_bmi, subset=['bmi'])"
   ]
  },
  {
   "cell_type": "code",
   "execution_count": 66,
   "metadata": {},
   "outputs": [
    {
     "name": "stderr",
     "output_type": "stream",
     "text": [
      "[Stage 138:>                                                        (0 + 1) / 1]\r"
     ]
    },
    {
     "name": "stdout",
     "output_type": "stream",
     "text": [
      "+-------+------------------+------+------------------+-------------------+-------------------+------------+---------+--------------+------------------+------------------+---------------+-------------------+\n",
      "|summary|                 0|gender|               age|       hypertension|      heart_disease|ever_married|work_type|Residence_type| avg_glucose_level|               bmi| smoking_status|             stroke|\n",
      "+-------+------------------+------+------------------+-------------------+-------------------+------------+---------+--------------+------------------+------------------+---------------+-------------------+\n",
      "|  count|             67135| 67135|             67135|              67135|              67135|       67135|    67135|         67135|             67135|             67135|          67135|              67135|\n",
      "|   mean|           33568.0|  NULL| 51.95950845311693|0.16410218217025396|0.10142250688910405|        NULL|     NULL|          NULL|113.41439606762462| 29.16154047813857|           NULL|  0.600089372160572|\n",
      "| stddev|19380.349498052576|  NULL|23.413054156327913|0.37037102916366954| 0.3018896147748789|        NULL|     NULL|          NULL| 51.25881719094036|7.1020570070927205|           NULL|0.48988334555668295|\n",
      "|    min|                 1|Female|              0.08|                  0|                  0|          No| Govt_job|         Rural|              55.0|              10.1|formerly smoked|                  0|\n",
      "|    max|             67135| Other|              82.0|                  1|                  1|         Yes| children|         Urban|            291.05|              97.6|         smokes|                  1|\n",
      "+-------+------------------+------+------------------+-------------------+-------------------+------------+---------+--------------+------------------+------------------+---------------+-------------------+\n",
      "\n"
     ]
    },
    {
     "name": "stderr",
     "output_type": "stream",
     "text": [
      "                                                                                \r"
     ]
    }
   ],
   "source": [
    "clidata_df.describe().show()"
   ]
  },
  {
   "cell_type": "code",
   "execution_count": 58,
   "metadata": {},
   "outputs": [
    {
     "name": "stdout",
     "output_type": "stream",
     "text": [
      "+------+------------+-------------+------------+\n",
      "|gender|hypertension|heart_disease|ever_married|\n",
      "+------+------------+-------------+------------+\n",
      "|  Male|           0|            0|          No|\n",
      "|  Male|           0|            1|         Yes|\n",
      "| Other|           0|            0|         Yes|\n",
      "|  Male|           1|            0|         Yes|\n",
      "|Female|           0|            1|         Yes|\n",
      "|  Male|           1|            1|          No|\n",
      "|Female|           0|            0|         Yes|\n",
      "|Female|           0|            1|          No|\n",
      "|  Male|           1|            1|         Yes|\n",
      "|Female|           0|            0|          No|\n",
      "|Female|           1|            1|         Yes|\n",
      "|  Male|           0|            0|         Yes|\n",
      "|Female|           1|            0|         Yes|\n",
      "|  Male|           0|            1|          No|\n",
      "|Female|           1|            0|          No|\n",
      "|Female|           1|            1|          No|\n",
      "|  Male|           1|            0|          No|\n",
      "| Other|           0|            0|          No|\n",
      "+------+------------+-------------+------------+\n",
      "\n"
     ]
    }
   ],
   "source": [
    "clidata_df.select('gender', 'hypertension', 'heart_disease', 'ever_married').distinct().show()"
   ]
  },
  {
   "cell_type": "code",
   "execution_count": 59,
   "metadata": {},
   "outputs": [
    {
     "name": "stdout",
     "output_type": "stream",
     "text": [
      "+-------------+--------------+\n",
      "|    work_type|Residence_type|\n",
      "+-------------+--------------+\n",
      "|      Private|         Urban|\n",
      "|     children|         Urban|\n",
      "|     Govt_job|         Rural|\n",
      "|Self-employed|         Rural|\n",
      "|     Govt_job|         Urban|\n",
      "|      Private|         Rural|\n",
      "| Never_worked|         Rural|\n",
      "|     children|         Rural|\n",
      "| Never_worked|         Urban|\n",
      "|Self-employed|         Urban|\n",
      "+-------------+--------------+\n",
      "\n"
     ]
    }
   ],
   "source": [
    "clidata_df.select('work_type', 'Residence_type').distinct().show()"
   ]
  },
  {
   "cell_type": "code",
   "execution_count": 60,
   "metadata": {},
   "outputs": [
    {
     "name": "stdout",
     "output_type": "stream",
     "text": [
      "+---------------+------+\n",
      "| smoking_status|stroke|\n",
      "+---------------+------+\n",
      "|   never_smoked|     0|\n",
      "|formerly smoked|     1|\n",
      "|         smokes|     1|\n",
      "|formerly smoked|     0|\n",
      "|   never_smoked|     1|\n",
      "|         smokes|     0|\n",
      "+---------------+------+\n",
      "\n"
     ]
    }
   ],
   "source": [
    "clidata_df.select('smoking_status', 'stroke').distinct().show()"
   ]
  },
  {
   "cell_type": "code",
   "execution_count": 4,
   "metadata": {},
   "outputs": [],
   "source": [
    "from pyspark.ml.feature import StringIndexer, OneHotEncoder"
   ]
  },
  {
   "cell_type": "code",
   "execution_count": null,
   "metadata": {},
   "outputs": [],
   "source": []
  }
 ],
 "metadata": {
  "kernelspec": {
   "display_name": "challenge5",
   "language": "python",
   "name": "challenge5"
  },
  "language_info": {
   "codemirror_mode": {
    "name": "ipython",
    "version": 3
   },
   "file_extension": ".py",
   "mimetype": "text/x-python",
   "name": "python",
   "nbconvert_exporter": "python",
   "pygments_lexer": "ipython3",
   "version": "3.8.10"
  }
 },
 "nbformat": 4,
 "nbformat_minor": 2
}
